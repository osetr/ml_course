{
 "cells": [
  {
   "cell_type": "code",
   "execution_count": 1,
   "metadata": {},
   "outputs": [],
   "source": [
    "import pandas as pd\n",
    "import numpy as np\n",
    "from sklearn.metrics import roc_auc_score\n",
    "data = pd.read_csv('data-logistic.csv', header=None)"
   ]
  },
  {
   "cell_type": "code",
   "execution_count": 2,
   "metadata": {},
   "outputs": [],
   "source": [
    "y = data[data.columns[0]]\n",
    "X = data[data.columns[1:]]"
   ]
  },
  {
   "cell_type": "code",
   "execution_count": 3,
   "metadata": {},
   "outputs": [
    {
     "data": {
      "text/html": [
       "<div>\n",
       "<style scoped>\n",
       "    .dataframe tbody tr th:only-of-type {\n",
       "        vertical-align: middle;\n",
       "    }\n",
       "\n",
       "    .dataframe tbody tr th {\n",
       "        vertical-align: top;\n",
       "    }\n",
       "\n",
       "    .dataframe thead th {\n",
       "        text-align: right;\n",
       "    }\n",
       "</style>\n",
       "<table border=\"1\" class=\"dataframe\">\n",
       "  <thead>\n",
       "    <tr style=\"text-align: right;\">\n",
       "      <th></th>\n",
       "      <th>1</th>\n",
       "      <th>2</th>\n",
       "    </tr>\n",
       "  </thead>\n",
       "  <tbody>\n",
       "    <tr>\n",
       "      <th>0</th>\n",
       "      <td>-0.663827</td>\n",
       "      <td>-0.138526</td>\n",
       "    </tr>\n",
       "    <tr>\n",
       "      <th>1</th>\n",
       "      <td>1.994596</td>\n",
       "      <td>2.468025</td>\n",
       "    </tr>\n",
       "    <tr>\n",
       "      <th>2</th>\n",
       "      <td>-1.247395</td>\n",
       "      <td>0.749425</td>\n",
       "    </tr>\n",
       "    <tr>\n",
       "      <th>3</th>\n",
       "      <td>2.309374</td>\n",
       "      <td>1.899836</td>\n",
       "    </tr>\n",
       "    <tr>\n",
       "      <th>4</th>\n",
       "      <td>0.849143</td>\n",
       "      <td>2.407750</td>\n",
       "    </tr>\n",
       "    <tr>\n",
       "      <th>...</th>\n",
       "      <td>...</td>\n",
       "      <td>...</td>\n",
       "    </tr>\n",
       "    <tr>\n",
       "      <th>200</th>\n",
       "      <td>4.245176</td>\n",
       "      <td>3.053931</td>\n",
       "    </tr>\n",
       "    <tr>\n",
       "      <th>201</th>\n",
       "      <td>2.437935</td>\n",
       "      <td>1.357804</td>\n",
       "    </tr>\n",
       "    <tr>\n",
       "      <th>202</th>\n",
       "      <td>-1.876638</td>\n",
       "      <td>1.533398</td>\n",
       "    </tr>\n",
       "    <tr>\n",
       "      <th>203</th>\n",
       "      <td>-6.824446</td>\n",
       "      <td>-13.934211</td>\n",
       "    </tr>\n",
       "    <tr>\n",
       "      <th>204</th>\n",
       "      <td>0.001805</td>\n",
       "      <td>0.865147</td>\n",
       "    </tr>\n",
       "  </tbody>\n",
       "</table>\n",
       "<p>205 rows × 2 columns</p>\n",
       "</div>"
      ],
      "text/plain": [
       "            1          2\n",
       "0   -0.663827  -0.138526\n",
       "1    1.994596   2.468025\n",
       "2   -1.247395   0.749425\n",
       "3    2.309374   1.899836\n",
       "4    0.849143   2.407750\n",
       "..        ...        ...\n",
       "200  4.245176   3.053931\n",
       "201  2.437935   1.357804\n",
       "202 -1.876638   1.533398\n",
       "203 -6.824446 -13.934211\n",
       "204  0.001805   0.865147\n",
       "\n",
       "[205 rows x 2 columns]"
      ]
     },
     "execution_count": 3,
     "metadata": {},
     "output_type": "execute_result"
    }
   ],
   "source": [
    "X"
   ]
  },
  {
   "cell_type": "code",
   "execution_count": 4,
   "metadata": {},
   "outputs": [
    {
     "data": {
      "text/plain": [
       "0     -1\n",
       "1      1\n",
       "2     -1\n",
       "3      1\n",
       "4      1\n",
       "      ..\n",
       "200    1\n",
       "201    1\n",
       "202   -1\n",
       "203    1\n",
       "204   -1\n",
       "Name: 0, Length: 205, dtype: int64"
      ]
     },
     "execution_count": 4,
     "metadata": {},
     "output_type": "execute_result"
    }
   ],
   "source": [
    "y"
   ]
  },
  {
   "cell_type": "code",
   "execution_count": 5,
   "metadata": {},
   "outputs": [
    {
     "name": "stdout",
     "output_type": "stream",
     "text": [
      "w1=0.27874229, w2=0.10040298\n",
      "0.9281904761904761\n",
      "w1=0.02856197, w2=0.02478366\n",
      "0.9362857142857142\n"
     ]
    }
   ],
   "source": [
    "w1 = 0   # вес 1\n",
    "w2 = 0   # вес 2\n",
    "k  = 0.1 # шаг\n",
    "max_iter = 10000   # максимальное кол-во итераций\n",
    "evk_min  = 0.00001 # минимальное евклидовое расcтояние\n",
    "\n",
    "def logistic_reqression(X, y, w1=0, w2=0, c=0, k=0.1, max_iter=100, evk_min=0.00001):\n",
    "    l = len(y)\n",
    "    for j in range(max_iter):\n",
    "        summa1 = 0\n",
    "        summa2 = 0\n",
    "        for i in range(l):\n",
    "            s = 1 - 1 / (1 + np.exp( -y[i] * (w1 * X[1][i] + w2 * X[2][i]) ))\n",
    "            summa1 = summa1 + y[i] * X[1][i] * s\n",
    "            summa2 = summa2 + y[i] * X[2][i] * s\n",
    "        w1new = w1 + k / l * summa1 - k * c * w1\n",
    "        w2new = w2 + k / l * summa2 - k * c * w2\n",
    "        evk = np.sqrt( (w1new - w1)**2 + (w2new - w2)**2 )\n",
    "#        print('Шаг', j, 'евклид. расстояние: %0.6f' %evk)\n",
    "#        print('w1=%.8f, w2=%.8f' %(w1, w2))\n",
    "        if ( evk < evk_min ): break\n",
    "        w1, w2 = w1new, w2new\n",
    "    return w1, w2\n",
    "\n",
    "def auc_roc(X, y, w1=0, w2=0):\n",
    "    l = len(y)\n",
    "    a = []\n",
    "    for i in range(l):\n",
    "        a.append( 1 / (1 + np.exp( - w1*X[1][i] - w2*X[2][i])) )\n",
    "    return roc_auc_score(y, a)\n",
    "\n",
    "ww1, ww2 = logistic_reqression(X, y, c=0)\n",
    "print('w1=%.8f, w2=%.8f' %(ww1, ww2))\n",
    "#print ('C=0:', auc_roc(X, y, ww1, ww2))\n",
    "print(roc_auc_score(y, [1/(1 + np.exp(-ww1*X[1][i] - ww2*X[2][i])) for i in range(len(y))]))\n",
    "\n",
    "ww1, ww2 = logistic_reqression(X, y, c=10)\n",
    "print('w1=%.8f, w2=%.8f' %(ww1, ww2))\n",
    "#print ('C=10:', auc_roc(X, y, ww1, ww2))\n",
    "print(roc_auc_score(y, [1/(1 + np.exp(-ww1*X[1][i] - ww2*X[2][i])) for i in range(len(y))]))"
   ]
  }
 ],
 "metadata": {
  "kernelspec": {
   "display_name": "Python 3",
   "language": "python",
   "name": "python3"
  },
  "language_info": {
   "codemirror_mode": {
    "name": "ipython",
    "version": 3
   },
   "file_extension": ".py",
   "mimetype": "text/x-python",
   "name": "python",
   "nbconvert_exporter": "python",
   "pygments_lexer": "ipython3",
   "version": "3.6.9"
  }
 },
 "nbformat": 4,
 "nbformat_minor": 4
}
